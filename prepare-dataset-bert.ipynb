{
 "cells": [
  {
   "cell_type": "code",
   "execution_count": 1,
   "metadata": {},
   "outputs": [],
   "source": [
    "import pandas as pd\n",
    "import torch\n",
    "from bert import Bert"
   ]
  },
  {
   "cell_type": "code",
   "execution_count": 2,
   "metadata": {},
   "outputs": [
    {
     "name": "stdout",
     "output_type": "stream",
     "text": [
      "<class 'pandas.core.frame.DataFrame'>\n",
      "RangeIndex: 1969 entries, 0 to 1968\n",
      "Data columns (total 7 columns):\n",
      " #   Column         Non-Null Count  Dtype  \n",
      "---  ------         --------------  -----  \n",
      " 0   Artist         1969 non-null   object \n",
      " 1   Lyrics         1969 non-null   object \n",
      " 2   Song Title     1969 non-null   object \n",
      " 3   Year           1969 non-null   int64  \n",
      " 4   Popularity     1969 non-null   int64  \n",
      " 5   en_prob        1969 non-null   float64\n",
      " 6   cleanedLyrics  1969 non-null   object \n",
      "dtypes: float64(1), int64(2), object(4)\n",
      "memory usage: 107.8+ KB\n"
     ]
    }
   ],
   "source": [
    "df = pd.read_excel(\"data/Processed Song Dataset.xlsx\")\n",
    "df.info()"
   ]
  },
  {
   "cell_type": "code",
   "execution_count": 3,
   "metadata": {},
   "outputs": [
    {
     "data": {
      "image/png": "[encoded data removed]",
      "text/plain": [
       "<Figure size 432x288 with 1 Axes>"
      ]
     },
     "metadata": {
      "needs_background": "light"
     },
     "output_type": "display_data"
    }
   ],
   "source": [
    "df[\"Word Count\"] = df.Lyrics.apply(lambda l: len(l.split()))\n",
    "df[\"Word Count\"].hist();"
   ]
  },
  {
   "cell_type": "code",
   "execution_count": 4,
   "metadata": {},
   "outputs": [
    {
     "data": {
      "text/plain": [
       "Artist           1379\n",
       "Lyrics           1379\n",
       "Song Title       1379\n",
       "Year             1379\n",
       "Popularity       1379\n",
       "en_prob          1379\n",
       "cleanedLyrics    1379\n",
       "Word Count       1379\n",
       "dtype: int64"
      ]
     },
     "execution_count": 4,
     "metadata": {},
     "output_type": "execute_result"
    }
   ],
   "source": [
    "df = df.loc[df[\"Word Count\"] <= 512].reset_index(drop=True)\n",
    "df.count()"
   ]
  },
  {
   "cell_type": "code",
   "execution_count": 5,
   "metadata": {},
   "outputs": [
    {
     "data": {
      "text/plain": [
       "device(type='cpu')"
      ]
     },
     "execution_count": 5,
     "metadata": {},
     "output_type": "execute_result"
    }
   ],
   "source": [
    "device = torch.device(\"cuda\" if torch.cuda.is_available() else \"cpu\")\n",
    "device"
   ]
  },
  {
   "cell_type": "code",
   "execution_count": 6,
   "metadata": {},
   "outputs": [
    {
     "name": "stderr",
     "output_type": "stream",
     "text": [
      "Some weights of the model checkpoint at distilbert-base-uncased were not used when initializing DistilBertModel: ['vocab_projector.weight', 'vocab_transform.weight', 'vocab_transform.bias', 'vocab_layer_norm.weight', 'vocab_projector.bias', 'vocab_layer_norm.bias']\n",
      "- This IS expected if you are initializing DistilBertModel from the checkpoint of a model trained on another task or with another architecture (e.g. initializing a BertForSequenceClassification model from a BertForPreTraining model).\n",
      "- This IS NOT expected if you are initializing DistilBertModel from the checkpoint of a model that you expect to be exactly identical (initializing a BertForSequenceClassification model from a BertForSequenceClassification model).\n"
     ]
    }
   ],
   "source": [
    "bert = Bert(device)"
   ]
  },
  {
   "cell_type": "code",
   "execution_count": 8,
   "metadata": {},
   "outputs": [
    {
     "data": {
      "text/plain": [
       "array([[ 0.07053304,  0.25672066,  0.4391939 , ..., -0.08117124,\n",
       "        -0.04159494,  0.13940035],\n",
       "       [ 0.15911852,  0.13648048,  0.34850895, ..., -0.04814504,\n",
       "        -0.07906846, -0.17776656],\n",
       "       [ 0.03878518,  0.1724802 ,  0.54424787, ..., -0.19806495,\n",
       "        -0.17863883, -0.0288249 ],\n",
       "       ...,\n",
       "       [ 0.26192358,  0.24258156,  0.19548526, ..., -0.13490669,\n",
       "         0.15974265, -0.06197537],\n",
       "       [-0.27828532,  0.2141993 , -0.05433536, ..., -0.42283663,\n",
       "        -0.02792796,  0.0850837 ],\n",
       "       [ 0.08635277,  0.28883934,  0.17500374, ..., -0.35293803,\n",
       "         0.23242621,  0.0345695 ]])"
      ]
     },
     "execution_count": 8,
     "metadata": {},
     "output_type": "execute_result"
    }
   ],
   "source": [
    "bert.tokenize(df[\"Lyrics\"].to_list())"
   ]
  }
 ],
 "metadata": {
  "interpreter": {
   "hash": "fec1800b407c157a87daaf296dc66f490f8e49b603b11d30249db57ba6525178"
  },
  "kernelspec": {
   "display_name": "Python 3.9.9 64-bit ('song-3.9.9')",
   "language": "python",
   "name": "python3"
  },
  "language_info": {
   "codemirror_mode": {
    "name": "ipython",
    "version": 3
   },
   "file_extension": ".py",
   "mimetype": "text/x-python",
   "name": "python",
   "nbconvert_exporter": "python",
   "pygments_lexer": "ipython3",
   "version": "3.9.9"
  },
  "orig_nbformat": 4
 },
 "nbformat": 4,
 "nbformat_minor": 2
}
